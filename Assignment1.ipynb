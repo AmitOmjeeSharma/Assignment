{
 "cells": [
  {
   "cell_type": "code",
   "execution_count": 6,
   "id": "1172f891-7b29-4bc5-a83c-082fef2f35ca",
   "metadata": {},
   "outputs": [
    {
     "ename": "SyntaxError",
     "evalue": "cannot assign to literal here. Maybe you meant '==' instead of '='? (669052537.py, line 1)",
     "output_type": "error",
     "traceback": [
      "\u001b[0;36m  Cell \u001b[0;32mIn[6], line 1\u001b[0;36m\u001b[0m\n\u001b[0;31m    1 = Guido Van Rossum devloped Pytho programing language.\u001b[0m\n\u001b[0m    ^\u001b[0m\n\u001b[0;31mSyntaxError\u001b[0m\u001b[0;31m:\u001b[0m cannot assign to literal here. Maybe you meant '==' instead of '='?\n"
     ]
    }
   ],
   "source": [
    "1 = Guido Van Rossum devloped Pytho programing language.\n",
    "\n",
    "2 = Python is an interpreted programming language, supporting object-oriented, structured, and functional programming.\n",
    "\n",
    "3 = Yes, Python is a case sensitive language, it treats uppercase and lowercase characters differently. \n",
    "\n",
    "4 = The correct file extension for Python files is .py\n",
    "\n",
    "5 = Python is an interpreted language.\n",
    "\n",
    "6 = Indentation is used to define a block of code in python.\n",
    "\n",
    "7 = Hash character(#) is used to comment the line in the Python program.\n",
    "    \n",
    "8 = First use import sys, Then function sys.version can help us to find the version of python that we are currently working on.\n",
    "    \n",
    "9 = It uses a construct called \"lambda\" .\n",
    "    \n",
    "10 = pip stands for - preferred installer program.\n",
    "    \n",
    "11 = print( ) function\n",
    "    type( ) function\n",
    "    input( ) function\n",
    "    abs( ) function\n",
    "    pow( ) function\n",
    "    dir( ) function\n",
    "    sorted( ) function\n",
    "    max( ) function\n",
    "    round( ) function\n",
    "    divmod( ) function\n",
    "    id( ) function\n",
    "    ord( ) function\n",
    "    len( ) function\n",
    "    sum( ) function\n",
    "    help( ) function\n",
    "    \n",
    "12 = An identifier can have a maximum length of 79 characters in Python. \n",
    "    \n",
    "13 = 1.Easy to Read, Learn and Write\n",
    "    2.Improved Productivity\n",
    "    3.Interpreted Language\n",
    "    4.Dynamically Typed\n",
    "    5.Free and Open-Source\n",
    "    6.Vast Libraries Support\n",
    "    7.Portability\n",
    "    \n",
    "14 = Memory management in Python involves a private heap containing all Python objects and data structures,\n",
    "    The management of this private heap is ensured internally by the Python memory manager.\n",
    "    \n",
    "15 =The steps to install Python in windows are as follows.  \n",
    "    1. Open a browser to the Python website and download the Windows installer.\n",
    "    2. Double click on the downloaded file and install Python for all users, and ensure that Python is added to your path. Click on Install now to begin.\n",
    "    3. After the installation is complete, click Disable path length limit and then Close. Disabling the path length limit means we can use more than 260 characters in a file path.\n",
    "    4. Click Close to end the installation.\n",
    "    The steps to set the path are as follows\n",
    "    The complete path of python.exe can be added by:\n",
    "    1. Right-clicking This PC and going to Properties.\n",
    "    2. Clicking on the Advanced system settings in the menu on the left.\n",
    "    3. Clicking on the Environment Variables button o​n the bottom right.\n",
    "    4. In the System variables section, selecting the Path variable and clicking on Edit. The next screen will show all the directories that are currently a part of the PATH variable.\n",
    "    5. Clicking on New and entering Python’s install directory.\n",
    "\n",
    "16 =  The indentation in Python is very important. Python uses indentation to indicate a block of code."
   ]
  },
  {
   "cell_type": "code",
   "execution_count": null,
   "id": "5b53d6b7-fa6e-4065-a396-9109fa93dcd5",
   "metadata": {},
   "outputs": [],
   "source": []
  }
 ],
 "metadata": {
  "kernelspec": {
   "display_name": "Python 3 (ipykernel)",
   "language": "python",
   "name": "python3"
  },
  "language_info": {
   "codemirror_mode": {
    "name": "ipython",
    "version": 3
   },
   "file_extension": ".py",
   "mimetype": "text/x-python",
   "name": "python",
   "nbconvert_exporter": "python",
   "pygments_lexer": "ipython3",
   "version": "3.10.8"
  }
 },
 "nbformat": 4,
 "nbformat_minor": 5
}
